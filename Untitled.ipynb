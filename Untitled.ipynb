{
 "cells": [
  {
   "cell_type": "code",
   "execution_count": 2,
   "metadata": {},
   "outputs": [
    {
     "data": {
      "text/html": [
       "<div>\n",
       "<style scoped>\n",
       "    .dataframe tbody tr th:only-of-type {\n",
       "        vertical-align: middle;\n",
       "    }\n",
       "\n",
       "    .dataframe tbody tr th {\n",
       "        vertical-align: top;\n",
       "    }\n",
       "\n",
       "    .dataframe thead th {\n",
       "        text-align: right;\n",
       "    }\n",
       "</style>\n",
       "<table border=\"1\" class=\"dataframe\">\n",
       "  <thead>\n",
       "    <tr style=\"text-align: right;\">\n",
       "      <th></th>\n",
       "      <th>product_imagelink</th>\n",
       "      <th>product_name</th>\n",
       "      <th>product_price</th>\n",
       "    </tr>\n",
       "  </thead>\n",
       "  <tbody>\n",
       "    <tr>\n",
       "      <th>0</th>\n",
       "      <td>NaN</td>\n",
       "      <td>Korg microKorg 37-Key Analog Modeling Synthesi...</td>\n",
       "      <td>$367.00,$,367,.,00,$,367,.,.,00,$299.00,$,299,...</td>\n",
       "    </tr>\n",
       "    <tr>\n",
       "      <th>1</th>\n",
       "      <td>product_imagelink</td>\n",
       "      <td>product_name</td>\n",
       "      <td>product_price</td>\n",
       "    </tr>\n",
       "    <tr>\n",
       "      <th>2</th>\n",
       "      <td>NaN</td>\n",
       "      <td>Korg microKorg 37-Key Analog Modeling Synthesi...</td>\n",
       "      <td>$367.00,$,367,.,00,$,367,.,.,00,$299.00,$,299,...</td>\n",
       "    </tr>\n",
       "    <tr>\n",
       "      <th>3</th>\n",
       "      <td>product_imagelink</td>\n",
       "      <td>product_name</td>\n",
       "      <td>product_price</td>\n",
       "    </tr>\n",
       "    <tr>\n",
       "      <th>4</th>\n",
       "      <td>&lt;img src=\"https://m.media-amazon.com/images/I/...</td>\n",
       "      <td>\\n    \\n    \\n        \\n\\n\\n\\n\\n,\\n    \\n     ...</td>\n",
       "      <td>367,.,299,.,129,.,299,.,298,.,369,.,21,.,159,....</td>\n",
       "    </tr>\n",
       "  </tbody>\n",
       "</table>\n",
       "</div>"
      ],
      "text/plain": [
       "                                   product_imagelink  \\\n",
       "0                                                NaN   \n",
       "1                                  product_imagelink   \n",
       "2                                                NaN   \n",
       "3                                  product_imagelink   \n",
       "4  <img src=\"https://m.media-amazon.com/images/I/...   \n",
       "\n",
       "                                        product_name  \\\n",
       "0  Korg microKorg 37-Key Analog Modeling Synthesi...   \n",
       "1                                       product_name   \n",
       "2  Korg microKorg 37-Key Analog Modeling Synthesi...   \n",
       "3                                       product_name   \n",
       "4  \\n    \\n    \\n        \\n\\n\\n\\n\\n,\\n    \\n     ...   \n",
       "\n",
       "                                       product_price  \n",
       "0  $367.00,$,367,.,00,$,367,.,.,00,$299.00,$,299,...  \n",
       "1                                      product_price  \n",
       "2  $367.00,$,367,.,00,$,367,.,.,00,$299.00,$,299,...  \n",
       "3                                      product_price  \n",
       "4  367,.,299,.,129,.,299,.,298,.,369,.,21,.,159,....  "
      ]
     },
     "execution_count": 2,
     "metadata": {},
     "output_type": "execute_result"
    }
   ],
   "source": [
    "import pandas as pd\n",
    "\n",
    "data = pd.read_csv('/home/dxc/myProjects/repos/scrapy_amazon/amazon/data.csv')\n",
    "\n",
    "data"
   ]
  }
 ],
 "metadata": {
  "kernelspec": {
   "display_name": "Python 3",
   "language": "python",
   "name": "python3"
  },
  "language_info": {
   "codemirror_mode": {
    "name": "ipython",
    "version": 3
   },
   "file_extension": ".py",
   "mimetype": "text/x-python",
   "name": "python",
   "nbconvert_exporter": "python",
   "pygments_lexer": "ipython3",
   "version": "3.6.9"
  }
 },
 "nbformat": 4,
 "nbformat_minor": 2
}
